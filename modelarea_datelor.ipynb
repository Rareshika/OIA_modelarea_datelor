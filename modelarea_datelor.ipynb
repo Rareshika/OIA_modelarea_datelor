{
  "nbformat": 4,
  "nbformat_minor": 0,
  "metadata": {
    "colab": {
      "provenance": []
    },
    "kernelspec": {
      "name": "python3",
      "display_name": "Python 3"
    },
    "language_info": {
      "name": "python"
    }
  },
  "cells": [
    {
      "cell_type": "markdown",
      "source": [
        "# Modelarea datelor in Python\n",
        "\n",
        "Abilitatea de a prelucra si interpreta date este poate cea mai puternica arma din arsenalul fiecarui analist. Acest tutorial are rolul de a introduce notiunile de baza ale bibliotecilor NumPy, Pandas si Matplotlib.\n",
        "\n",
        "Videoclipul suport pentru parcurgerea acestui notebook este, de asemenea, disponibil pe canalul de youtube al Olimpiadei de IA: https://www.youtube.com/live/IETq9BwaEtA?si=pH63w5tS3Crmex6L."
      ],
      "metadata": {
        "id": "OU9QrAqMUfs1"
      }
    },
    {
      "cell_type": "markdown",
      "source": [
        "# 1. NumPy\n",
        "\n",
        "NumPy este o biblioteca fundamentala pentru Python, fiind folosita pentru calcule matematice pe array-uri multidimensionale si nu numai. Pe langa sintaxa eleganta ofera si o imbunatatire semnificativa a timpului de rulare, folosindu-se de vectorizarea operatiilor. Adesea, fara a profita de aceasta, calculele devin imposibile, avand timpi de rulare mult prea mari pentru a putea fi considerate practice."
      ],
      "metadata": {
        "id": "yOTj3UnkVbCB"
      }
    },
    {
      "cell_type": "markdown",
      "source": [
        "# 1.1 Array-uri in NumPy\n"
      ],
      "metadata": {
        "id": "4vromFPCubuv"
      }
    },
    {
      "cell_type": "code",
      "source": [
        "import numpy as np # acest as se foloseste dupa un import pentru a defini un 'alias'\n",
        "# cand vom folosi libraria vom scrie doar np, in loc de numpy, de fiecare data cand vom vrea sa apelam o functie\n",
        "\n",
        "# In numpy toate operatiile se fac pe array-uri.\n",
        "x = np.array([4, 3, 8])\n",
        "y = np.array([1, 2, 7])\n",
        "\n",
        "print(x, y)"
      ],
      "metadata": {
        "id": "CH7e5QGJXM5x"
      },
      "execution_count": null,
      "outputs": []
    },
    {
      "cell_type": "code",
      "source": [
        "# Mai intai sa aflam cate ceva despre aceste array-uri\n",
        "\n",
        "print(x.shape) # putem vedea ca x este sir cu 3 elemente\n",
        "print(x.size) # putem vedea dimensiunile lui x\n",
        "print(x.ndim) # cate dimensiuni are x"
      ],
      "metadata": {
        "id": "_c-Vv3g1md9N"
      },
      "execution_count": null,
      "outputs": []
    },
    {
      "cell_type": "code",
      "source": [
        "# Momentan nu se observa nimic special la array-uri fata de listele obisnuite din python,\n",
        "# insa numpy adauga multe functii folositoare\n",
        "\n",
        "suma = x + y # putem aduna doua array-rui\n",
        "print(suma)\n",
        "diferenta = x - y # putem face diferenta dintre ele\n",
        "print(diferenta)\n",
        "produs_per_element = x * y # putem inmulti fiecare element in parte\n",
        "print(produs_per_element)\n",
        "dot_product = x.dot(y) # putem face si dot productul dintre ei\n",
        "print(dot_product)"
      ],
      "metadata": {
        "id": "SeNVf9eNiM5U"
      },
      "execution_count": null,
      "outputs": []
    },
    {
      "cell_type": "code",
      "source": [
        "# Numpy nu usureaza numai operatiile dintre doua array-uri, ci si prelucrarea individuala a lor\n",
        "\n",
        "x = np.array([1, 2, 3, 4, 5])\n",
        "\n",
        "print(x + 7) # pot aduna o constanta la fiecare element al lui x\n",
        "print(x * 4.5) # pot inmulti fiecare element cu o constanta\n",
        "print(x ** 3) # pot chiar ridica fiecare element la o putere\n",
        "print(x ** 2 + 2 * x + 1) # pot chiar si combina aceste operatii"
      ],
      "metadata": {
        "id": "f9EgtOE7ihrA"
      },
      "execution_count": null,
      "outputs": []
    },
    {
      "cell_type": "code",
      "source": [
        "# Numpy ofera si operatii deja implementate ce se pot aplica pe array, spre exemplu:\n",
        "\n",
        "x = np.array([1, 3, 8, 10, 11])\n",
        "\n",
        "suma = np.sum(x) # suma elementelor\n",
        "print(suma)\n",
        "medie = np.mean(x) # media elementelor\n",
        "print(medie)\n",
        "median = np.median(x) # elementul median\n",
        "print(median)\n",
        "std = np.std(x) # deviatia standard\n",
        "print(std)\n",
        "minn, maxx = np.min(x), np.max(x)\n",
        "print(minn, maxx) # elementul minim si cel maxim\n",
        "poz_min, poz_max = np.argmin(x), np.argmax(x)\n",
        "print(poz_min, poz_max)"
      ],
      "metadata": {
        "id": "N7RTRyAYjuiv"
      },
      "execution_count": null,
      "outputs": []
    },
    {
      "cell_type": "markdown",
      "source": [
        "# 1.2 Matrice in NumPy"
      ],
      "metadata": {
        "id": "40vCSepouj1y"
      }
    },
    {
      "cell_type": "code",
      "source": [
        "# Poate cel mai important, numpy se descurca excelent si cu matrice sau orice container multidimensional\n",
        "\n",
        "A = np.array([[5, 2, 4], [3, 2, 6]])\n",
        "B = np.array([[1, 7], [9, 9], [2, 2]])\n",
        "\n",
        "print(A, '\\n -------- \\n', B)"
      ],
      "metadata": {
        "id": "n-I1k1qrlvjf"
      },
      "execution_count": null,
      "outputs": []
    },
    {
      "cell_type": "code",
      "source": [
        "transpusa = A.T # asa putem afla transpusa unei matrice\n",
        "print(transpusa)"
      ],
      "metadata": {
        "id": "XEmcgo8MtisT"
      },
      "execution_count": null,
      "outputs": []
    },
    {
      "cell_type": "code",
      "source": [
        "# Evident putem si inmulti matricele folosind operatorul '@' sau functia .dot()\n",
        "\n",
        "prod = A @ B  # sau prod = A.dot(B)\n",
        "print(prod)"
      ],
      "metadata": {
        "id": "ATuvGTPUsvfp"
      },
      "execution_count": null,
      "outputs": []
    },
    {
      "cell_type": "code",
      "source": [
        "# Functiile de la array-urile unidimensionale functioneaza si pe matrice\n",
        "\n",
        "suma = np.sum(A) # suma tuturor elemenetelor matricei A\n",
        "print(suma)\n",
        "\n",
        "# Totusi adesea vom avea nevoie de suma pe coloane sau pe randuri, pentru asta vom folosi argumentul axis\n",
        "suma_pe_randuri = np.sum(A, axis=1) # Cum stiti ce sa puneti aici? Ei bine va ganditi ce axa vreti sa eliminati.\n",
        "suma_pe_coloane = np.sum(A, axis=0) # In cazul coloanelor a trebuit sa eliminam randurile(axa 0) ca sa ramanem cu coloanele\n",
        "print(suma_pe_randuri, suma_pe_coloane)\n",
        "\n",
        "# In mod identic se procedeaza si cu celelalte functii"
      ],
      "metadata": {
        "id": "4cmXlLRItFNJ"
      },
      "execution_count": null,
      "outputs": []
    },
    {
      "cell_type": "markdown",
      "source": [
        "# 1.3 Alte funcii folositoare in NumPy"
      ],
      "metadata": {
        "id": "o_Wgrhzyuy71"
      }
    },
    {
      "cell_type": "code",
      "source": [
        "# De multe ori va fi nevoie sa schimbam forma unui array in numpy\n",
        "# Ei bine, libraria face acest proces foarte simplu\n",
        "\n",
        "# Sa zicem ca vrem sa il transformam pe x dintr-un sir cu 6 elemente intr-o matrice de forma (2, 3)\n",
        "x = np.array([1, 2, 3, 4, 5, 6])\n",
        "print(x, x.shape)\n",
        "x = x.reshape((2, 3)) # Atunci este nevoie de functia reshape si de tuple-ul (2, 3) ca argument\n",
        "print(x, x.shape)\n",
        "x = x.reshape(-1) # Poti folosi -1 pentru a scapa de dimensiunile ce nu au fost mentionate explicit anterior\n",
        "print(x)"
      ],
      "metadata": {
        "id": "ClxuNwBFtycQ"
      },
      "execution_count": null,
      "outputs": []
    },
    {
      "cell_type": "code",
      "source": [
        "# Numpy este folositor si pentru generarea rapida de date sintetice, spre exemplu\n",
        "\n",
        "x = np.linspace(0, 5, 11) # functia linspace va genera 11 numere egal departate din intervalul [0, 10]\n",
        "print(x)\n",
        "\n",
        "x = np.arange(0, 5, 0.5) # functia arange este fratele lui linspace, insa va primi ca argument pasul, nu cantitatea de numere si NU include sfarsitul intervalului\n",
        "print(x)\n",
        "\n",
        "x = np.random.randint(0, 100, 15) # Asa generam un sir de 15 numere intregi random aflate in intervalul [0, 100)\n",
        "print(x)\n",
        "\n",
        "x = np.random.rand(15) # Astfel generam un sir de 15 numere de tip float random aflate in intervalul [0, 1)\n",
        "print(x)\n",
        "\n",
        "mu, sigma = 0, 0.1 # media si deviatia standard\n",
        "s = np.random.normal(mu, sigma, 1000) # genereaza o distributie normala cu 1000 de elemente ce au media mu si deviatia standard sigma"
      ],
      "metadata": {
        "id": "VNeSblpuvi-a"
      },
      "execution_count": null,
      "outputs": []
    },
    {
      "cell_type": "code",
      "source": [
        "unu = np.ones(10) # Folosit pentru a genera un sir de 1-uri de lungime 10\n",
        "print(unu)\n",
        "\n",
        "zero = np.zeros(10)# Folosit pentru a genera un sir de 0-uri de lungime 10\n",
        "print(zero)\n",
        "\n",
        "A = np.array([[1, 2, 3], [4, 5, 6]])\n",
        "unu_A = np.ones_like(A) # Adaugand like putem genera o matrice de 1-uri identice in forma cu argumentul\n",
        "print(unu_A)"
      ],
      "metadata": {
        "id": "1BJC-e1kvs9o"
      },
      "execution_count": null,
      "outputs": []
    },
    {
      "cell_type": "markdown",
      "source": [
        "# 1.4 Indexare si slicing\n",
        "\n",
        "Este important sa intelegem cum functioneaza accesarea submatricelor in numpy, deoarece este un concept foarte des intalnit."
      ],
      "metadata": {
        "id": "2yhkpbge0rwK"
      }
    },
    {
      "cell_type": "code",
      "source": [
        "# Pentru inceput vom face o matrice A de marime (5, 5) cu elemente numerele de la 1 la 25\n",
        "A = np.arange(1, 26, 1).reshape((5, 5))\n",
        "print(A)"
      ],
      "metadata": {
        "id": "-k8lhoAi1WqB"
      },
      "execution_count": null,
      "outputs": []
    },
    {
      "cell_type": "code",
      "source": [
        "# Mai intai sa accesam elementul de pe al 3-lea rand si a 4-a coloana\n",
        "print(A[2][3]) # Asa cum in python indexarea incepe de la 0, asa incepe si in numpy, astfel trebuie sa accesam elementul de pe pozitia (2, 3)"
      ],
      "metadata": {
        "id": "hQYnDLhf5KjY"
      },
      "execution_count": null,
      "outputs": []
    },
    {
      "cell_type": "code",
      "source": [
        "# Cum selectam randuri sau coloane in numpy? Ei bine\n",
        "primul_rand = A[0] # selectarea unui rand se va face ca in python\n",
        "print(primul_rand)\n",
        "\n",
        "a_treia_coloana = A[:, 2]\n",
        "print(a_treia_coloana) # la fel si cu coloanele. Acel ';' semnifica selectarea tuturor randurilor in cadrul celei de a treia coloana\n",
        "\n",
        "# desi nu l-am folosit si la rand, deoarece pythonul il considera implicit, il putem adauga si acolo pentru o intelegere mai clara\n",
        "primul_rand = A[0, :] # pentru primul rand imi doresc fiecare coloana\n",
        "print(primul_rand)"
      ],
      "metadata": {
        "id": "aIh2uF5j6Yz4"
      },
      "execution_count": null,
      "outputs": []
    },
    {
      "cell_type": "code",
      "source": [
        "# Cum selectam o submatrice? Ei bine va trebui sa specificam range-ul in jurul lui ':'\n",
        "# Sa zicem ca vrem sa selctam submatricea cu coltul stanga sus (1, 2) si coltul dreapta jos (4, 3) atunci:\n",
        "submatrice = A[1:5, 2:4] # ma intereseaza randurile 1, 2, 3 si 4 => 1:5 si pentru fiecare rand coloanele 2 si 3 => 2:4\n",
        "print(submatrice)"
      ],
      "metadata": {
        "id": "EZDj9vO-6pqF"
      },
      "execution_count": null,
      "outputs": []
    },
    {
      "cell_type": "code",
      "source": [
        "# Se poate realiza si selectarea mai multor randuri sau coloane 'fixe', spre exemplu:\n",
        "B = A[[0, 1, 4]] # Voi pastra din A randurile 0, 1 si 4\n",
        "print(B)\n",
        "\n",
        "C = A[:, [1, 2, 4]] # Voi pastra din A coloanele 1, 2 si 4\n",
        "print(C)"
      ],
      "metadata": {
        "id": "ptQXKOue9boQ"
      },
      "execution_count": null,
      "outputs": []
    },
    {
      "cell_type": "code",
      "source": [
        "# Pentru a combina selectarea si a unor randuri fixe, dar si a unor coloane fixe este nevoie de slicing avansat\n",
        "\n",
        "randuri = [0, 1, 4]\n",
        "coloane = [1, 2, 4]\n",
        "M = A[np.ix_(randuri, coloane)] # Am pastrat elementele de pe randurile 0, 1 si 4, care se afla pe coloanele 1, 2 sau 4\n",
        "print(M)"
      ],
      "metadata": {
        "id": "Asdg39pP-cMR"
      },
      "execution_count": null,
      "outputs": []
    },
    {
      "cell_type": "markdown",
      "source": [
        "# 1.5 De ce NumPy?\n",
        "\n",
        "Pana acum am explorat doar de ce ne face viata mai usoara, dar nu am zis nimic despre viteza bibliotecii. Mai jos, o sa demonstrez prin cateva exemple practice, de ce operatiile vectorizante sunt absolut necesare"
      ],
      "metadata": {
        "id": "j2Mmy-sCH9Nl"
      }
    },
    {
      "cell_type": "code",
      "source": [
        "# Suma elementelor cu un for versus np.sum()\n",
        "def suma_elementelor_fara_np(x):\n",
        "  suma = 0\n",
        "  for nr in x:\n",
        "    suma += nr\n",
        "  return suma\n",
        "\n",
        "def suma_elementelor_np(x):\n",
        "  return np.sum(x)"
      ],
      "metadata": {
        "id": "ZaM-yqFMIjnh"
      },
      "execution_count": null,
      "outputs": []
    },
    {
      "cell_type": "code",
      "source": [
        "x = np.random.rand(10000000)"
      ],
      "metadata": {
        "id": "n4le4--FI0o1"
      },
      "execution_count": null,
      "outputs": []
    },
    {
      "cell_type": "code",
      "source": [
        "%%timeit\n",
        "suma_elementelor_fara_np(x)"
      ],
      "metadata": {
        "id": "Imbxve2dI-BP"
      },
      "execution_count": null,
      "outputs": []
    },
    {
      "cell_type": "code",
      "source": [
        "%%timeit\n",
        "suma_elementelor_np(x)"
      ],
      "metadata": {
        "id": "BzjjYBvGJIEu"
      },
      "execution_count": null,
      "outputs": []
    },
    {
      "cell_type": "code",
      "source": [
        "def inmultire_matrice_fara_np(A, B):\n",
        "  if A.shape[1] != B.shape[0]:\n",
        "    return False\n",
        "\n",
        "  N, M, K = A.shape[0], B.shape[1], A.shape[1]\n",
        "\n",
        "\n",
        "  C = [[0 for i in range(N)] for j in range(M)]\n",
        "  for i in range(N):\n",
        "    for j in range(M):\n",
        "      for k in range(K):\n",
        "        C[i][j] += A[i][k] * B[k][j]\n",
        "\n",
        "  return C\n",
        "\n",
        "def inmultire_matrice_np(A, B):\n",
        "  if A.shape[1] != B.shape[0]:\n",
        "    return False\n",
        "\n",
        "  return A @ B"
      ],
      "metadata": {
        "id": "NCiVtm19JqLO"
      },
      "execution_count": null,
      "outputs": []
    },
    {
      "cell_type": "code",
      "source": [
        "A = np.random.rand(10000).reshape(100, 100)\n",
        "B = np.random.rand(10000).reshape(100, 100)"
      ],
      "metadata": {
        "id": "OEnzxFVqKk6K"
      },
      "execution_count": null,
      "outputs": []
    },
    {
      "cell_type": "code",
      "source": [
        "%%timeit\n",
        "inmultire_matrice_fara_np(A, B)"
      ],
      "metadata": {
        "id": "q5dd8Qk0KzWo"
      },
      "execution_count": null,
      "outputs": []
    },
    {
      "cell_type": "code",
      "source": [
        "%%timeit\n",
        "inmultire_matrice_np(A, B)"
      ],
      "metadata": {
        "id": "qkbUfSkZK4B_"
      },
      "execution_count": null,
      "outputs": []
    },
    {
      "cell_type": "markdown",
      "source": [
        "WOW! Suma elementelor a fost de aproximativ **100** de ori mai rapida si inmultirea matricelor a fost de aproape **10.000** de ori mai rapida. Pe langa factorul de viteza, codul a fost si mult muult mai scurt si elegant. Din acest motiv NumPy nu trebuie sa lipseasca din arsenalul niciunui utilizator de Python."
      ],
      "metadata": {
        "id": "dvo-9OXpLNdm"
      }
    },
    {
      "cell_type": "markdown",
      "source": [
        "# 1.6 Exercitii"
      ],
      "metadata": {
        "id": "bXksD5tr-95-"
      }
    },
    {
      "cell_type": "code",
      "source": [
        "# 1. Generati un sir 'x' de 20 de elemente intregi aflate in intervalul [10, 25] si aflati:\n",
        "# minimul, maximul, media si suma elementelor din sir"
      ],
      "metadata": {
        "id": "PhA6gfd3-1GM"
      },
      "execution_count": null,
      "outputs": []
    },
    {
      "cell_type": "code",
      "source": [
        "# 2. Folosind sirul 'x' de la exercitiul 1, transformati-l intr-o matrice de marime (2, 2, 3) si afisati elementul de pe pozitia (0, 1, 2)\n",
        "# iar apoi transformati-l intr-o matrice de marime (4, 5) si sa afisati suma elementelor de fiecare rand si de pe fiecare coloana"
      ],
      "metadata": {
        "id": "4Ij8L-FHE3To"
      },
      "execution_count": null,
      "outputs": []
    },
    {
      "cell_type": "code",
      "source": [
        "# 3. Creati o matrice de marime (5, 6) cu elemente random de tip float cu valori aflate in intervalul (0, 1]\n",
        "# si afisati submatricea cu coltul stanga sus (1, 3) si coltul dreapta jos (4, 5)"
      ],
      "metadata": {
        "id": "oqQHdGlbH1A-"
      },
      "execution_count": null,
      "outputs": []
    },
    {
      "cell_type": "code",
      "source": [
        "# 4. Recreati aceasta matrice fara a folosi for-uri:\n",
        "# [[ 2  3  4  5  6  7]\n",
        "#  [ 6  7  8  9 10 11]\n",
        "#  [14 15 16 17 18 19]\n",
        "#  [18 19 20 21 22 23]\n",
        "#  [26 27 28 29 30 31]\n",
        "#  [30 31 32 33 34 35]]"
      ],
      "metadata": {
        "id": "6JdPtGS7FNlH"
      },
      "execution_count": null,
      "outputs": []
    },
    {
      "cell_type": "markdown",
      "source": [
        "# 2. Pandas\n",
        "\n",
        "Pandas este o biblioteca de analiza a datelor, care ofera structuri precum DataFrame si Series pentru a organiza datele tabulare.\n",
        "\n",
        "Pentru aceasta parte a tutorialului am pregatit un set de date despre filmele de pe IMDb. Pe aceste filme voi prezenta cateva functii si operatii pe care le puteti folosi pe un DataFrame. Fisierul filme.csv poate fi gasit in acelasi repo si trebuie adaugat in notebook, inainte sa fie folosit in cod.\n",
        "\n",
        "Acest set de date este o versiune simplificata a acestuia de pe kaggle: https://www.kaggle.com/datasets/raedaddala/top-500-600-movies-of-each-year-from-1960-to-2024."
      ],
      "metadata": {
        "id": "4A1IQPeXFIWj"
      }
    },
    {
      "cell_type": "markdown",
      "source": [
        "# 2.1 Familiarizarea cu setul de date\n",
        "\n",
        "Inainte de ne apuca de orice proiect este necesar sa intelegem datele cu care va trebui sa lucram. Din fericire, Pandas ne face treaba usoara."
      ],
      "metadata": {
        "id": "5IVqJyrWPT3T"
      }
    },
    {
      "cell_type": "code",
      "source": [
        "import pandas as pd # folosim un alias asemanator ca la numpy\n",
        "\n",
        "# In pandas vom lucra de cele mai multe ori cu date citite dintr-un fisier de tip csv.\n",
        "# Pentru a citi dintr-nu astfel de fisier folosim comanda read_csv\n",
        "data = pd.read_csv('filme.csv')"
      ],
      "metadata": {
        "id": "TZ1_Z-RJIWFa"
      },
      "execution_count": null,
      "outputs": []
    },
    {
      "cell_type": "code",
      "source": [
        "mini_data = data.loc[:25]\n",
        "mini_data.to_csv('mini_filme.csv', index=False)"
      ],
      "metadata": {
        "id": "HL_lFY0HbSk9"
      },
      "execution_count": null,
      "outputs": []
    },
    {
      "cell_type": "code",
      "source": [
        "# Acum ca am introdus setul de date in notebook, haideti sa il si vedem\n",
        "\n",
        "data.head(10) # folosind functia head() putem vedea primele 10 filme din setul de date"
      ],
      "metadata": {
        "id": "V0oK94H8JxpM"
      },
      "execution_count": null,
      "outputs": []
    },
    {
      "cell_type": "code",
      "source": [
        "# Acum ca ne-am facut o prima impresie, a venit momentul sa studiem fiecare coloana in parte\n",
        "# Pentru a gasi coloanele, putem accesa atributul columns al lui data\n",
        "\n",
        "data.columns"
      ],
      "metadata": {
        "id": "hbY5wpq4KyNj"
      },
      "execution_count": null,
      "outputs": []
    },
    {
      "cell_type": "code",
      "source": [
        "data.info() # info() ne ofera informatii despre tipul de date si cate valori nu lipsesc"
      ],
      "metadata": {
        "id": "u0mSsj84NOct"
      },
      "execution_count": null,
      "outputs": []
    },
    {
      "cell_type": "code",
      "source": [
        "data.describe() # describe() ne ofera un rezumat matematic al coloanelor ce contin numere"
      ],
      "metadata": {
        "id": "ui-hmV5oOTcE"
      },
      "execution_count": null,
      "outputs": []
    },
    {
      "cell_type": "markdown",
      "source": [
        "# 2.2 Lucrul cu date"
      ],
      "metadata": {
        "id": "CjN-OFwtP1DE"
      }
    },
    {
      "cell_type": "code",
      "source": [
        "# Putem accesa coloanele de parca lucram cu un dictionar si anume:\n",
        "\n",
        "data['Year'] # asta va returna coloana ce contine aniii"
      ],
      "metadata": {
        "id": "GofI5t1eOVO-"
      },
      "execution_count": null,
      "outputs": []
    },
    {
      "cell_type": "code",
      "source": [
        "type(data['Year']) # Vedem ca o coloana este de fapt un Series, adica un sir"
      ],
      "metadata": {
        "id": "CFyxorWjQNXM"
      },
      "execution_count": null,
      "outputs": []
    },
    {
      "cell_type": "code",
      "source": [
        "print(data['Year'].mean(), np.mean(data['Year'])) # Putem afisa media unei coloane, fie cu mean() direct sau cu numpy"
      ],
      "metadata": {
        "id": "docW1D7qQVYn"
      },
      "execution_count": null,
      "outputs": []
    },
    {
      "cell_type": "code",
      "source": [
        "# Pe serii putem aplica transformari asemanatoare cu cele de pe siruri\n",
        "# Spre exemplu\n",
        "data['Year'] ** 2 + data['Year'] + 5 # ATENTIE! Cu aceasta linie doar afisez, nu si schimb coloana cu ani"
      ],
      "metadata": {
        "id": "s-GpHY1eTPdl"
      },
      "execution_count": null,
      "outputs": []
    },
    {
      "cell_type": "code",
      "source": [
        "# Cand analizam date, de multe ori vrem sa scapam de numere prea mari sau prea mici\n",
        "# Asa ca una dintre cele mai comune metode de a scapa de acele valori cidudate este prin a normaliza\n",
        "# Poate cea mai simpla normalizare este Min-Max, care va reduce fiecare numar intre 0 si 1, adica:\n",
        "# v[i] = (v[i] - min(v)) / (max(v) + eps), unde eps este un numar foarte mic folosit pentru a evita impartirea la 0\n",
        "# Haideti sa normalizam coloana noastra de buget\n",
        "\n",
        "(data['budget'] - data['budget'].min()) / (data['budget'].max() + 1e-6)"
      ],
      "metadata": {
        "id": "-2puqfR5T-lN"
      },
      "execution_count": null,
      "outputs": []
    },
    {
      "cell_type": "code",
      "source": [
        "# Adesea va fi nevoie sa cream coloane noi care sa ne ajute in analiza datelor\n",
        "# Sa zicem ca ne-a angajat un studio care se ocupa de filme de groaza sa facem o analiza de piata\n",
        "# Astfel, ar fi util sa vedem ce filme sunt Horror si daca au fost profitabile sau nu\n",
        "\n",
        "# O sa facem mai intai un 'feature' este_horror, care va dicta daca filmul este horror sau nu\n",
        "data['este_horror'] = data['genres'].str.contains('Horror', case=False)\n",
        "data.head()"
      ],
      "metadata": {
        "id": "MLcWHULBiVlp"
      },
      "execution_count": null,
      "outputs": []
    },
    {
      "cell_type": "code",
      "source": [
        "# Acum vom face o coloana este_profitabil, care ne va spune daca filmul a fost profitabil sau nu\n",
        "# Fie un film profitabil daca grossWorldWide > budget, atunci:\n",
        "\n",
        "data['este_profitabil'] = data['grossWorldWide'] > data['budget']\n",
        "data.head()"
      ],
      "metadata": {
        "id": "NQCsT-FFizqe"
      },
      "execution_count": null,
      "outputs": []
    },
    {
      "cell_type": "markdown",
      "source": [
        "# 2.3 Filtrarea datelor\n",
        "\n",
        "Cum putem aplica filtre usoare asupra setului nostru de date?"
      ],
      "metadata": {
        "id": "2VDB_b-4losr"
      }
    },
    {
      "cell_type": "code",
      "source": [
        "# Pentru localizarea unor celule specifice ne folosim  2 metode: .loc si .iloc\n",
        "\n",
        "# Prima varianta este .loc si ea arata cam asa:\n",
        "# data.loc[randuri, coloane] => selecteaza din data toate randurile din 'randuri' si pastraza doar coloanele din 'coloane'\n",
        "# De retinut este ca .loc se foloseste atat de etichete cat si indexuri(similar cu ce avem la liste)\n",
        "# Spre exemplu, sa zicem ca vrem sa gasim primele 100 de randuri si sa pastram doar coloanele 'MPA' si 'Rating', atunci:\n",
        "data.loc[:99, ['MPA', 'Rating']] # ATENTIE! .loc include si capatul range-ului"
      ],
      "metadata": {
        "id": "YwPf_TGfp4ry"
      },
      "execution_count": null,
      "outputs": []
    },
    {
      "cell_type": "code",
      "source": [
        "# Cea de a doua varianta este .iloc si este destul de similara cu .loc\n",
        "# data.iloc[randuri, coloane] => selecteaza din data toate randurile din 'randuri' si pastraza doar coloanele din 'coloane'\n",
        "# Fata de .loc, .iloc foloseste numai indexuri, asa ca selectia de mai sus folosind .iloc va arata asa:\n",
        "data.iloc[:100, [5, 6]]"
      ],
      "metadata": {
        "id": "ifZ_hCa5rUn0"
      },
      "execution_count": null,
      "outputs": []
    },
    {
      "cell_type": "code",
      "source": [
        "# Haideti sa ne intoarcem la exemplul nostru cu filmele horror, care sunt si profitabile\n",
        "# Pentru a realiza filtrarile necesare pentru a le gasi va voi prezenta doua variante: .loc si apply\n",
        "\n",
        "# .loc este varianta mai simpla in opinia mea, dar si mai putin flexibila\n",
        "filme_bune = data.loc[data['este_horror'] & data['este_profitabil']] # observatie! poate fi omis .loc\n",
        "filme_bune.head()"
      ],
      "metadata": {
        "id": "UbigLZ_Alg-2"
      },
      "execution_count": null,
      "outputs": []
    },
    {
      "cell_type": "code",
      "source": [
        "# .apply() este mai flexibila, intrucat foloseste o functie de filtrare, dar e si mai lunga de scris\n",
        "\n",
        "def este_bun(film):\n",
        "  return film['este_horror'] and film['este_profitabil']\n",
        "\n",
        "filme_bune = data[data.apply(este_bun, axis=1)]\n",
        "filme_bune.head()"
      ],
      "metadata": {
        "id": "qznEq3imoLxr"
      },
      "execution_count": null,
      "outputs": []
    },
    {
      "cell_type": "markdown",
      "source": [
        "# 2.4 Exercitii"
      ],
      "metadata": {
        "id": "Rq9VDx4ipfac"
      }
    },
    {
      "cell_type": "code",
      "source": [
        "# 1. Gasiti filmele care au fost lansate in anul 2000 sau mai tarziu\n"
      ],
      "metadata": {
        "id": "ghwYL7A7sNs_"
      },
      "execution_count": null,
      "outputs": []
    },
    {
      "cell_type": "code",
      "source": [
        "# 2. Gasiti filmele care se incadreaza in a doua jumatate a castigurilor('grossWorldWide)\n"
      ],
      "metadata": {
        "id": "5BsyaBpDtXQr"
      },
      "execution_count": null,
      "outputs": []
    },
    {
      "cell_type": "code",
      "source": [
        "# 3. Adaugati o coloana noua numita 'este_comedie' care sa verifice daca filmul este de comedie sau nu\n"
      ],
      "metadata": {
        "id": "x8jp2KXetf10"
      },
      "execution_count": null,
      "outputs": []
    },
    {
      "cell_type": "code",
      "source": [
        "# 4. Pentru filmele de comedie sa se gaseasca cele cu rating mai mare ca 9\n"
      ],
      "metadata": {
        "id": "vX4iNLkft7cY"
      },
      "execution_count": null,
      "outputs": []
    },
    {
      "cell_type": "code",
      "source": [
        "# 5. Sa se calculeze profitul minim, maxim si media profiturilor pentru filmele gasite la exercitiul 4\n",
        "# unde profitul este definit ca (grossWorldWide - budget)\n"
      ],
      "metadata": {
        "id": "2mGW3fHcuD_5"
      },
      "execution_count": null,
      "outputs": []
    },
    {
      "cell_type": "markdown",
      "source": [
        "# 3. Matplotlib.pyplot\n",
        "\n",
        "Matplotlib.pyplot sau plt pe scurt este cea mai populara biblioteca de vizualizare a datelor. In continuare va voi arata cateva tipuri de grafice."
      ],
      "metadata": {
        "id": "Q8Nb5uNLWsAa"
      }
    },
    {
      "cell_type": "code",
      "source": [
        "import matplotlib.pyplot as plt"
      ],
      "metadata": {
        "id": "CFq5TKgCY6IX"
      },
      "execution_count": null,
      "outputs": []
    },
    {
      "cell_type": "markdown",
      "source": [
        "# 3.1 Grafice liniare\n",
        "\n",
        "Graficul liniar este utilizat pentru a afisa o relatie continua intre doua variabile. De obicei, arta cum o variabila (pe axa y) se modifica in functie de alta (pe axa x)."
      ],
      "metadata": {
        "id": "hwtC3PAyX2Ph"
      }
    },
    {
      "cell_type": "code",
      "source": [
        "x = np.linspace(0, 10, 100)  # 100 de valori între 0 și 10\n",
        "y = np.sin(x)\n",
        "plt.figure(figsize=(6, 4))\n",
        "plt.plot(x, y, label=\"sin(x)\", color=\"blue\")\n",
        "plt.title(\"Grafic Liniar\")\n",
        "plt.xlabel(\"x\")\n",
        "plt.ylabel(\"sin(x)\")\n",
        "plt.legend()\n",
        "plt.grid(True)\n",
        "plt.show()"
      ],
      "metadata": {
        "id": "1W2Csnu3Y1b9"
      },
      "execution_count": null,
      "outputs": []
    },
    {
      "cell_type": "markdown",
      "source": [
        "# 3.2 Grafic scatter\n",
        "\n",
        "Graficul scatter utilizeaza puncte pentru a reprezenta valori dintr-un set de date. Fiecare punct reprezinta o observatie, coordonatele acesteia fiind definite de doua variabile."
      ],
      "metadata": {
        "id": "1O-IN4CNY-p_"
      }
    },
    {
      "cell_type": "code",
      "source": [
        "x = np.random.rand(50)\n",
        "y = np.random.rand(50)\n",
        "plt.figure(figsize=(6, 4))\n",
        "plt.scatter(x, y, color=\"red\", alpha=0.7)\n",
        "plt.title(\"Grafic Scatter\")\n",
        "plt.xlabel(\"x\")\n",
        "plt.ylabel(\"y\")\n",
        "plt.show()"
      ],
      "metadata": {
        "id": "ZO9O5am6Y4As"
      },
      "execution_count": null,
      "outputs": []
    },
    {
      "cell_type": "markdown",
      "source": [
        "# 3.3 Grafic de bare\n",
        "\n",
        "Graficul de bare reprezinta datele categorice folosind bare dreptunghiulare, unde lungimea fiecarei bare este proportionala cu valoarea sa."
      ],
      "metadata": {
        "id": "VJVdzHpeZsaz"
      }
    },
    {
      "cell_type": "code",
      "source": [
        "categories = ['A', 'B', 'C', 'D']\n",
        "values = [5, 7, 3, 8]\n",
        "plt.figure(figsize=(6, 4))\n",
        "plt.bar(categories, values, color='green')\n",
        "plt.title(\"Grafic de Bare\")\n",
        "plt.xlabel(\"Categorii\")\n",
        "plt.ylabel(\"Valori\")\n",
        "plt.show()"
      ],
      "metadata": {
        "id": "3HHNclbXZp4D"
      },
      "execution_count": null,
      "outputs": []
    },
    {
      "cell_type": "markdown",
      "source": [
        "# 3.4 Grafic histograma\n",
        "\n",
        "O histograma este utilizata pentru a repartiza distributia frecventei unei singure variabile. Datele sunt grupate in intervale (bins)."
      ],
      "metadata": {
        "id": "iMnksQDLZ-AE"
      }
    },
    {
      "cell_type": "code",
      "source": [
        "data = np.random.randn(1000)  # 1000 de valori dintr-o distribuție normală\n",
        "plt.figure(figsize=(6, 4))\n",
        "plt.hist(data, bins=20, color='purple', alpha=0.8)\n",
        "plt.title(\"Histogramă\")\n",
        "plt.xlabel(\"Valori\")\n",
        "plt.ylabel(\"Frecvență\")\n",
        "plt.show()"
      ],
      "metadata": {
        "id": "h5ulRUXfZ7sk"
      },
      "execution_count": null,
      "outputs": []
    },
    {
      "cell_type": "markdown",
      "source": [
        "# 3.5 Exercitii\n",
        "\n",
        "Pentru a le rezolva ne vom intoarce la setul de date din pandas, pentru a demonstra cat de bine se integreaza plt alaturi de pandas."
      ],
      "metadata": {
        "id": "I1Nv8J-AawxD"
      }
    },
    {
      "cell_type": "code",
      "source": [
        "# 1. Creeaza un grafic de bare care sa arate numarul de filme lansate in fiecare an\n"
      ],
      "metadata": {
        "id": "9lGRQiKNa2a0"
      },
      "execution_count": null,
      "outputs": []
    },
    {
      "cell_type": "code",
      "source": [
        "# 2. Creeaza un scatter plot care sa arate relatia dintre buget(budget) si incasarile globale(grossWorldWide)\n"
      ],
      "metadata": {
        "id": "soaut_feeGvU"
      },
      "execution_count": null,
      "outputs": []
    },
    {
      "cell_type": "code",
      "source": [
        "# 3. Creeaza o histograma pentru a analiza cum sunt distribuite ratingurile(Rating) in setul de date\n"
      ],
      "metadata": {
        "id": "YCMoNGhReSL8"
      },
      "execution_count": null,
      "outputs": []
    },
    {
      "cell_type": "code",
      "source": [
        "# 4. Creeaza un grafic liniar care sa arate cum a evoluat bugetul mediu al filmelor de-a lungul anilor(Year)\n"
      ],
      "metadata": {
        "id": "Oop2Z5mNeZzb"
      },
      "execution_count": null,
      "outputs": []
    }
  ]
}
